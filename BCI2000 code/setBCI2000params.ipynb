{
 "cells": [
  {
   "cell_type": "code",
   "execution_count": 1,
   "metadata": {},
   "outputs": [],
   "source": [
    "import BCI2000Tools\n",
    "from   BCI2000Tools import Chain\n",
    "from   BCI2000Tools import Remote\n",
    "import numpy as np\n",
    "\n",
    "import time\n",
    "from   scipy import signal"
   ]
  },
  {
   "cell_type": "code",
   "execution_count": 2,
   "metadata": {},
   "outputs": [
    {
     "data": {
      "text/plain": [
       "1"
      ]
     },
     "execution_count": 2,
     "metadata": {},
     "output_type": "execute_result"
    }
   ],
   "source": [
    "# open BCI2000 and run the pipeline with ADM encoding\n",
    "BCI2000 = Remote.BCI2000Remote()\n",
    "BCI2000.Connect()\n",
    "BCI2000.Execute('show window')\n",
    "\n",
    "# real-time stream from Micromed SystemPlus\n",
    "#BCI2000.StartupModules(['Micromed', 'ADM', 'DummyApplication'])\n",
    "\n",
    "# real-time stream from pre-recorded data\n",
    "BCI2000.StartupModules(['FilePlayback', 'ADM', 'DummyApplication'])"
   ]
  },
  {
   "cell_type": "code",
   "execution_count": 3,
   "metadata": {},
   "outputs": [
    {
     "data": {
      "text/plain": [
       "0"
      ]
     },
     "execution_count": 3,
     "metadata": {},
     "output_type": "execute_result"
    }
   ],
   "source": [
    "BCI2000.GetStates()[\"Refresh\"]"
   ]
  },
  {
   "cell_type": "code",
   "execution_count": 4,
   "metadata": {},
   "outputs": [],
   "source": [
    "# define sampling frequency\n",
    "fs        = 2000\n",
    "#define number of channels\n",
    "nch       = 23\n",
    "startCh   = 1\n",
    "stopCh    = startCh+nch\n",
    "chParams  = [str(c) for c in np.arange(startCh,stopCh)]\n",
    "repParams = 2\n",
    "\n",
    "for i in range(len(chParams)):\n",
    "    chParams[i] = 'Ch'+chParams[i]\n",
    "\n",
    "initialRoot = BCI2000Tools.bci2000root()"
   ]
  },
  {
   "cell_type": "code",
   "execution_count": 5,
   "metadata": {},
   "outputs": [],
   "source": [
    "bipolar=False  #set to True to activate bipolar montage"
   ]
  },
  {
   "cell_type": "code",
   "execution_count": 6,
   "metadata": {},
   "outputs": [
    {
     "data": {
      "text/plain": [
       "1"
      ]
     },
     "execution_count": 6,
     "metadata": {},
     "output_type": "execute_result"
    }
   ],
   "source": [
    "BCI2000.LoadParametersRemote('..\\\\tools\\\\python\\\\demo.prm')"
   ]
  },
  {
   "cell_type": "code",
   "execution_count": 7,
   "metadata": {},
   "outputs": [
    {
     "name": "stdout",
     "output_type": "stream",
     "text": [
      "(23, 64)\n",
      "(23, 64)\n",
      "(46, 64)\n"
     ]
    }
   ],
   "source": [
    "# set BCI2000 parameters\n",
    "BCI2000.Parameters['SourceCh'].Value         = str(nch)\n",
    "BCI2000.Parameters['SamplingRate'].Value     = str(fs)+'Hz'\n",
    "BCI2000.Parameters['SampleBlockSize'].Value  = '64'\n",
    "\n",
    "# Micromed parameters\n",
    "#BCI2000.Parameters['ConditionMask'].Value    = '0'\n",
    "#BCI2000.Parameters['SubjectRun'].Value       = '1'\n",
    "\n",
    "# FilePlayback parameters\n",
    "datfile     = BCI2000Tools.bci2000path('derivatives/sub-05/ses-SITUATION1A/sub-05_ses-SITUATION1A_task-BCI.dat')\n",
    "BCI2000.Parameters['PlaybackFileName'].Value = datfile\n",
    "\n",
    "# visualization \n",
    "BCI2000.Parameters['VisualizeTiming'].Value  = '0'\n",
    "BCI2000.Parameters['VisualizeSource'].Value    = '1'\n",
    "BCI2000.Parameters['VisualizeFIRFilter'].Value = '1'\n",
    "BCI2000.Parameters['VisualizeTransmissionFilter'].Value = '0'\n",
    "BCI2000.Parameters['VisualizeADMFilter'].Value = '1'\n",
    "\n",
    "# set ADM output files\n",
    "BCI2000.Parameters['OutputA'].Value = '..//UPDN_demo.txt'\n",
    "BCI2000.Parameters['OutputB'].Value = '..//UPDN_demo.txt'\n",
    "\n",
    "# transmit all channels for filtering and ADM conversion\n",
    "BCI2000.Parameters['TransmitChList'].Value = chParams\n",
    "if(bipolar):\n",
    "    chList1 = chParams[1:]\n",
    "    chList2 = chParams[:-1]\n",
    "    BCI2000.Parameters['ChList1'].Value = chList1*repParams\n",
    "    BCI2000.Parameters['ChList2'].Value = chList2*repParams\n",
    "else:\n",
    "    chList1 = chParams\n",
    "    chList2 = chParams\n",
    "    BCI2000.Parameters['ChList1'].Value = chParams*repParams\n",
    "    BCI2000.Parameters['ChList2'].Value = chParams*repParams\n",
    "\n",
    "# define channel names for ADM conversion \n",
    "nch  = len(chList1)*repParams\n",
    "admCh = []\n",
    "for i in range(nch):\n",
    "    admCh.append(str(i))\n",
    "\n",
    "# ADM parameters\n",
    "admLenW =  [\"0.05\"]*int(nch//repParams) # EEG\n",
    "admLenW += [\"0.005\"]*int(nch//repParams)# HFO\n",
    "BCI2000.Parameters['LenWindow'].Value = admLenW\n",
    "\n",
    "admPerc =  [\"40\"]*int(nch//repParams) # EEG\n",
    "admPerc += [\"50\"]*int(nch//repParams) # HFO\n",
    "BCI2000.Parameters['percentileDelta'].Value    = admPerc\n",
    "BCI2000.Parameters['RefractoryPeriod'].Value   = str(1/fs)\n",
    "BCI2000.Parameters['SelectedChannel'].Value    = admCh\n",
    "BCI2000.Parameters['LenWindow'].Value          = admLenW\n",
    "BCI2000.Parameters['LengthTuning'].Value       = '5'\n",
    "\n",
    "# FIR filter parameters for HFO band (250-500)Hz\n",
    "gainHFO = 100 #amplitude gain, just for visualization purposes\n",
    "f1      = 250 \n",
    "f2      = 500\n",
    "numtaps = 64\n",
    "FIR_HFO = np.array([signal.firwin(numtaps, [f1, f2], pass_zero=False,fs=fs)])*gainHFO\n",
    "FIR_HFO = np.repeat(FIR_HFO,int(nch//repParams),axis=0)\n",
    "print(FIR_HFO.shape)\n",
    "\n",
    "# FIR filter parameters for EEG band (4-80)Hz\n",
    "f1 = 4\n",
    "f2 = 80\n",
    "FIR_EEG = np.array([signal.firwin(numtaps, [f1, f2], pass_zero=False,fs=fs)])\n",
    "FIR_EEG = np.repeat(FIR_EEG,int(nch//repParams),axis=0)\n",
    "print(FIR_EEG.shape)\n",
    "\n",
    "# save filter parameters\n",
    "matFilter = np.concatenate((FIR_EEG,FIR_HFO),axis=0)\n",
    "print(matFilter.shape)\n",
    "np.savetxt('matFilt.txt',matFilter,delimiter='\\t')\n",
    "\n",
    "# load filter paramters into BCI2000\n",
    "BCI2000.Parameters['FIRCoefficients'].Value = np.loadtxt('matFilt.txt')\n",
    "BCI2000.Parameters['FIRIntegration'].Value = '0'"
   ]
  },
  {
   "cell_type": "code",
   "execution_count": 8,
   "metadata": {},
   "outputs": [
    {
     "data": {
      "text/plain": [
       "1"
      ]
     },
     "execution_count": 8,
     "metadata": {},
     "output_type": "execute_result"
    }
   ],
   "source": [
    "# FilePlayback\n",
    "LRec       = 840000/fs #sec\n",
    "\n",
    "# run BCI2000\n",
    "BCI2000.SetConfig()\n",
    "BCI2000.Start()\n",
    "running = True\n",
    "\n",
    "tstart     = time.time()\n",
    "while(running):\n",
    "    time.sleep(10)\n",
    "    if(time.time()-tstart>=LRec):\n",
    "        running=False\n",
    "        \n",
    "# close BCI2000\n",
    "BCI2000.Stop()\n",
    "BCI2000.Quit()\n",
    "BCI2000.Disconnect()"
   ]
  },
  {
   "cell_type": "code",
   "execution_count": null,
   "metadata": {},
   "outputs": [],
   "source": []
  }
 ],
 "metadata": {
  "kernelspec": {
   "display_name": "Python 3 (ipykernel)",
   "language": "python",
   "name": "python3"
  },
  "language_info": {
   "codemirror_mode": {
    "name": "ipython",
    "version": 3
   },
   "file_extension": ".py",
   "mimetype": "text/x-python",
   "name": "python",
   "nbconvert_exporter": "python",
   "pygments_lexer": "ipython3",
   "version": "3.8.6"
  }
 },
 "nbformat": 4,
 "nbformat_minor": 2
}
